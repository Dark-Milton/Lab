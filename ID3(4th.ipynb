{
  "cells": [
    {
      "cell_type": "code",
      "execution_count": 1,
      "id": "a2760165",
      "metadata": {
        "id": "a2760165"
      },
      "outputs": [],
      "source": [
        "import pandas as pd\n",
        "import numpy as np\n",
        "from numpy import log2 as log\n",
        "import pprint"
      ]
    },
    {
      "cell_type": "code",
      "execution_count": 2,
      "id": "013a1d4a",
      "metadata": {
        "id": "013a1d4a"
      },
      "outputs": [],
      "source": [
        "eps=np.finfo(float).eps"
      ]
    },
    {
      "cell_type": "code",
      "execution_count": 3,
      "id": "fe7215ca",
      "metadata": {
        "id": "fe7215ca"
      },
      "outputs": [],
      "source": [
        "def find_entropy(df):\n",
        "    cl=df.keys()[-1]\n",
        "    entropy=0\n",
        "    values=df[cl].unique()\n",
        "    for value in values:\n",
        "        fraction=df[cl].value_counts()[value]/len(df[cl])\n",
        "        entropy += -fraction*np.log2(fraction)\n",
        "    return entropy\n"
      ]
    },
    {
      "cell_type": "code",
      "execution_count": 4,
      "id": "d8188a7e",
      "metadata": {
        "id": "d8188a7e"
      },
      "outputs": [],
      "source": [
        "def find_entropy_attribute(df,attribute):\n",
        "    cl=df.keys()[-1]\n",
        "    target=df[cl].unique()\n",
        "    var=df[attribute].unique()\n",
        "    ent2=0\n",
        "    for vb in var:\n",
        "        et=0\n",
        "        for tv in target:\n",
        "            num=len(df[attribute][df[attribute]==vb][df[cl]==tv])\n",
        "            den=len(df[attribute][df[attribute]==vb])\n",
        "            fraction=num/(den+eps)\n",
        "            et+=-fraction*log(fraction+eps)\n",
        "        fraction2=den/len(df)\n",
        "        ent2+=-fraction2*et\n",
        "    return abs(ent2)\n"
      ]
    },
    {
      "cell_type": "code",
      "execution_count": 5,
      "id": "025cc183",
      "metadata": {
        "id": "025cc183"
      },
      "outputs": [],
      "source": [
        "def find_winner(df):\n",
        "    ig=[]\n",
        "    for key in df.keys()[:-1]:\n",
        "        ig.append(find_entropy(df)-find_entropy_attribute(df,key))\n",
        "    return df.keys()[:-1][np.argmax(ig)]\n"
      ]
    },
    {
      "cell_type": "code",
      "execution_count": 6,
      "id": "c2e98b61",
      "metadata": {
        "id": "c2e98b61"
      },
      "outputs": [],
      "source": [
        "def get_Subtable(df,node,value):\n",
        "    return df[df[node]==value].reset_index(drop=True)"
      ]
    },
    {
      "cell_type": "code",
      "execution_count": 7,
      "id": "6d2b5f3b",
      "metadata": {
        "id": "6d2b5f3b"
      },
      "outputs": [],
      "source": [
        "def buildTree(df,tree=None):\n",
        "    cl=df.keys()[-1]\n",
        "    node=find_winner(df)\n",
        "    atvl=np.unique(df[node])\n",
        "    if tree is None:\n",
        "        tree={}\n",
        "        tree[node]={}\n",
        "    for vl in atvl:\n",
        "        subtable=get_Subtable(df,node,vl)\n",
        "        clvl,count=np.unique(subtable['play'],return_counts=True)\n",
        "        if len(count)==1:\n",
        "            tree[node][vl]=clvl[0]\n",
        "        else:\n",
        "            tree[node][vl]=buildTree(subtable)\n",
        "    return tree\n",
        "\n"
      ]
    },
    {
      "cell_type": "code",
      "execution_count": 9,
      "id": "db88b099",
      "metadata": {
        "id": "db88b099",
        "colab": {
          "base_uri": "https://localhost:8080/"
        },
        "outputId": "dbe8acb3-e07c-4cda-d71b-3cdc62edc730"
      },
      "outputs": [
        {
          "output_type": "stream",
          "name": "stdout",
          "text": [
            "{'Outlook': {'Overcast': 'Yes',\n",
            "             'Rain': {'Wind': {'Strong': 'No', 'Weak': 'Yes'}},\n",
            "             'Sunny': {'Humidity': {'High': 'No', 'Normal': 'Yes'}}}}\n"
          ]
        }
      ],
      "source": [
        "\n",
        "df=pd.read_csv(\"id31.csv\")\n",
        "tree=buildTree(df)\n",
        "pprint.pprint(tree)"
      ]
    }
  ],
  "metadata": {
    "kernelspec": {
      "display_name": "Python 3 (ipykernel)",
      "language": "python",
      "name": "python3"
    },
    "language_info": {
      "codemirror_mode": {
        "name": "ipython",
        "version": 3
      },
      "file_extension": ".py",
      "mimetype": "text/x-python",
      "name": "python",
      "nbconvert_exporter": "python",
      "pygments_lexer": "ipython3",
      "version": "0.0.0"
    },
    "colab": {
      "provenance": []
    }
  },
  "nbformat": 4,
  "nbformat_minor": 5
}