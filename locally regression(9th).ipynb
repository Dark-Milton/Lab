{
 "cells": [
  {
   "cell_type": "code",
   "execution_count": null,
   "id": "9e3a408a",
   "metadata": {},
   "outputs": [],
   "source": [
    "import matplotlib.pyplot as plt\n",
    "import numpy as np\n",
    "# import pandas as pd\n",
    "# from sklearn import datasets"
   ]
  },
  {
   "cell_type": "code",
   "execution_count": null,
   "id": "54bc4f10",
   "metadata": {},
   "outputs": [],
   "source": [
    "def local_regression(x0,X,Y,tau):\n",
    "    x0=[1,x0]\n",
    "    X=[[1,i] for i in X]\n",
    "    X=np.array(X)\n",
    "    xw=(X.T)*np.exp(np.sum((X-x0)**2,axis=1)/(-2*tau))\n",
    "    beta=np.linalg.pinv(xw@X)@ xw @ Y @x0\n",
    "    return beta"
   ]
  },
  {
   "cell_type": "code",
   "execution_count": null,
   "id": "9a94c15e",
   "metadata": {},
   "outputs": [],
   "source": [
    "def draw(tau):\n",
    "    prediction=[local_regression(x0,X,Y,tau) for x0 in domain]\n",
    "    plt.plot(X,Y,'o',color='black')\n",
    "    plt.plot(domain,prediction,color='red')\n",
    "    plt.show()"
   ]
  },
  {
   "cell_type": "code",
   "execution_count": null,
   "id": "23f0a064",
   "metadata": {},
   "outputs": [],
   "source": [
    "X=np.linspace(-3,3,num=1000)\n",
    "domain=X\n",
    "Y=np.log(np.abs(X**2-1)+0.5)"
   ]
  },
  {
   "cell_type": "code",
   "execution_count": null,
   "id": "0a330105",
   "metadata": {},
   "outputs": [],
   "source": [
    "draw(10)\n",
    "draw(0.1)\n",
    "draw(0.01)\n",
    "draw(0.001)"
   ]
  },
  {
   "cell_type": "code",
   "execution_count": null,
   "id": "a7e77220",
   "metadata": {},
   "outputs": [],
   "source": []
  }
 ],
 "metadata": {
  "kernelspec": {
   "display_name": "Python 3 (ipykernel)",
   "language": "python",
   "name": "python3"
  },
  "language_info": {
   "codemirror_mode": {
    "name": "ipython",
    "version": 3
   },
   "file_extension": ".py",
   "mimetype": "text/x-python",
   "name": "python",
   "nbconvert_exporter": "python",
   "pygments_lexer": "ipython3",
   "version": "3.11.5"
  }
 },
 "nbformat": 4,
 "nbformat_minor": 5
}
