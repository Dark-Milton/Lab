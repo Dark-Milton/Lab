{
 "cells": [
  {
   "cell_type": "code",
   "execution_count": 2,
   "id": "1f23f356",
   "metadata": {},
   "outputs": [],
   "source": [
    "import pandas as pd\n",
    "from sklearn import tree\n",
    "from sklearn.preprocessing import LabelEncoder\n",
    "from sklearn.naive_bayes import GaussianNB\n",
    "from sklearn.model_selection import train_test_split\n",
    "from sklearn.metrics import accuracy_score"
   ]
  },
  {
   "cell_type": "code",
   "execution_count": 3,
   "id": "455db902",
   "metadata": {},
   "outputs": [],
   "source": [
    "data=pd.read_csv('enjoysport.csv')\n",
    "x=data.iloc[:,:-1]\n",
    "y=data.iloc[:,-1]"
   ]
  },
  {
   "cell_type": "code",
   "execution_count": 4,
   "id": "3cb82d3a",
   "metadata": {},
   "outputs": [],
   "source": [
    "le_sky=LabelEncoder()\n",
    "x.Sky=le_sky.fit_transform(x.Sky)\n",
    "le_airtemp=LabelEncoder()\n",
    "x.Airtemp=le_airtemp.fit_transform(x.Airtemp)\n",
    "le_humidity=LabelEncoder()\n",
    "x.Humidity=le_humidity.fit_transform(x.Humidity)\n",
    "le_wind=LabelEncoder()\n",
    "x.Wind=le_wind.fit_transform(x.Wind)\n",
    "le_water=LabelEncoder()\n",
    "x.Water=le_water.fit_transform(x.Water)\n",
    "le_forecast=LabelEncoder()\n",
    "x.Forecast=le_forecast.fit_transform(x.Forecast)"
   ]
  },
  {
   "cell_type": "code",
   "execution_count": 5,
   "id": "9e2bc741",
   "metadata": {},
   "outputs": [
    {
     "name": "stdout",
     "output_type": "stream",
     "text": [
      "The first 5 rows of output data is\n",
      "    Unnamed: 0  Sky  Airtemp  Humidity  Wind  Water  Forecast\n",
      "0           1    1        1         1     0      1         1\n",
      "1           2    1        1         0     0      1         1\n",
      "2           3    0        0         0     0      1         0\n",
      "3           4    1        1         0     0      0         0\n"
     ]
    }
   ],
   "source": [
    "print(\"The first 5 rows of output data is\\n\",x.head())"
   ]
  },
  {
   "cell_type": "code",
   "execution_count": 6,
   "id": "841d0840",
   "metadata": {},
   "outputs": [],
   "source": [
    "le_enjoysport=LabelEncoder()\n",
    "y.Enjoysport=le_enjoysport.fit_transform(y)"
   ]
  },
  {
   "cell_type": "code",
   "execution_count": 7,
   "id": "2f3733d2",
   "metadata": {},
   "outputs": [
    {
     "name": "stdout",
     "output_type": "stream",
     "text": [
      "The first 5 rows of trained data\n",
      " [1 1 0 1]\n"
     ]
    }
   ],
   "source": [
    "print(\"The first 5 rows of trained data\\n\",y.Enjoysport)"
   ]
  },
  {
   "cell_type": "code",
   "execution_count": 8,
   "id": "407296d9",
   "metadata": {},
   "outputs": [],
   "source": [
    "x_train,x_test,y_train,y_test=train_test_split(x,y,test_size=0.5)"
   ]
  },
  {
   "cell_type": "code",
   "execution_count": 9,
   "id": "00b21ea3",
   "metadata": {},
   "outputs": [
    {
     "name": "stdout",
     "output_type": "stream",
     "text": [
      "accuracy score is: 0.5\n"
     ]
    }
   ],
   "source": [
    "classifier=GaussianNB()\n",
    "classifier.fit(x_train,y_train)\n",
    "print(\"accuracy score is:\",accuracy_score(classifier.predict(x_test),y_test))"
   ]
  },
  {
   "cell_type": "code",
   "execution_count": null,
   "id": "2b465d9d",
   "metadata": {},
   "outputs": [],
   "source": []
  },
  {
   "cell_type": "code",
   "execution_count": null,
   "id": "0b3cbaa6",
   "metadata": {},
   "outputs": [],
   "source": []
  }
 ],
 "metadata": {
  "kernelspec": {
   "display_name": "Python 3 (ipykernel)",
   "language": "python",
   "name": "python3"
  },
  "language_info": {
   "codemirror_mode": {
    "name": "ipython",
    "version": 3
   },
   "file_extension": ".py",
   "mimetype": "text/x-python",
   "name": "python",
   "nbconvert_exporter": "python",
   "pygments_lexer": "ipython3",
   "version": "0.0.0"
  }
 },
 "nbformat": 4,
 "nbformat_minor": 5
}
