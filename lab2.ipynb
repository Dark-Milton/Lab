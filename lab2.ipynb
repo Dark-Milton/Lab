{
 "cells": [
  {
   "cell_type": "code",
   "execution_count": 7,
   "id": "af8cbf6a",
   "metadata": {},
   "outputs": [],
   "source": [
    "class Graph: \n",
    "    def __init__(self, graph, heuristicNodeList, startNode):\n",
    "        self.graph = graph\n",
    "        self.H = heuristicNodeList\n",
    "        self.start = startNode\n",
    "        self.parent = {}\n",
    "        self.status = {}\n",
    "        self.solutionGraph = {}\n",
    "\n",
    "    def applyAOStar(self):\n",
    "        self.aoStar(self.start, False)\n",
    "\n",
    "    def getNeighbors(self, v):\n",
    "        return self.graph.get(v, '')\n",
    "    \n",
    "    \n",
    "    def getStatus(self, v):\n",
    "        return self.status.get(v, 0)\n",
    "    \n",
    "    def setStatus(self, v, val):\n",
    "        self.status[v] = val\n",
    "\n",
    "    def  getHeuristicNodeValues(self, n):\n",
    "        return self.H.get(n, 0)\n",
    "    \n",
    "    def setHeuristicValues(self, n, value):\n",
    "        self.H[n] = value\n",
    "\n",
    "    def printSolution(self):\n",
    "        print(\"FOR GRAPH SOLUTION TRAVERSE  THE GRAPH FROM THE START NODE : \", self.start)\n",
    "        print(\"-------------------------------------------------------------------------\")\n",
    "        print(self.solutionGraph)\n",
    "\n",
    "    def computeMinimumCostChildNodes(self, v):\n",
    "        minimumCost = 0\n",
    "        costToChildNodeListDict = {}\n",
    "        costToChildNodeListDict[minimumCost] = []\n",
    "        flag = True\n",
    "        for nodeInfoTupleList in self.getNeighbors(v):\n",
    "            cost = 0\n",
    "            nodeList = []\n",
    "            for c, weight in nodeInfoTupleList:\n",
    "                cost = cost + self.getHeuristicNodeValues() + weight\n",
    "                nodeList.append(c)\n",
    "            \n",
    "            if flag == True:\n",
    "                minimumCost = cost\n",
    "                costToChildNodeListDict[minimumCost] = nodeList\n",
    "                flag = False\n",
    "            else:\n",
    "                if minimumCost > cost:\n",
    "                    minimumCost = cost\n",
    "                    costToChildNodeListDict[minimumCost] = nodeList\n",
    "        return minimumCost, costToChildNodeListDict[minimumCost]\n",
    "    \n",
    "\n",
    "    def aoStar(self, v, backTracking):\n",
    "        print(\"HEURISTIC VALUES : \", self.H)\n",
    "        print(\"SOLUTION GRAPH : \", self.solutionGraph)\n",
    "        print(\"PROCESSING NODE : \", v)\n",
    "        if(self.getStatus(v) >= 0):\n",
    "            minimumCost, childNodeList = self.computeMinimumCostChildNodes(v)\n",
    "            print(minimumCost, childNodeList)\n",
    "            self.setHeuristicValues(v, minimumCost)\n",
    "            self.setStatus(v, len(childNodeList))\n",
    "            solved = True\n",
    "            for childNode in childNodeList:\n",
    "                self.parent[childNode] = v\n",
    "                if self.getStatus(childNode) != -1:\n",
    "                    solved = solved & False\n",
    "                if solved == True:\n",
    "                    self.setStatus(v, -1)\n",
    "                    self.solutionGraph[v] = childNodeList\n",
    "\n",
    "                if v != self.start:\n",
    "                    self.aoStar(self.parent[v], True)\n",
    "\n",
    "                if backTracking == False:\n",
    "                    for childNode in childNodeList:\n",
    "                        self.setStatus(childNode, 0)\n",
    "                        self.aoStar(childNode, False)"
   ]
  },
  {
   "cell_type": "code",
   "execution_count": 8,
   "id": "aa10cb3e",
   "metadata": {},
   "outputs": [
    {
     "name": "stdout",
     "output_type": "stream",
     "text": [
      "Graph\n"
     ]
    }
   ],
   "source": [
    "print(\"Graph\")\n",
    "h2 = {\n",
    "    'A': 1,\n",
    "    'B': 6,\n",
    "    'C': 12,\n",
    "    'D': 10,\n",
    "    'E': 4,\n",
    "    'F': 4,\n",
    "    'G': 5,\n",
    "    'H': 7,\n",
    "}\n",
    "\n",
    "grapg2 = {\n",
    "    'A': [[('B', 1), ('C, 1')], [('D', 1)]],\n",
    "    'B': [[('G', 1)], [('H, 1')]],\n",
    "    'D': [[('E', 1)], [('F, 1')]],\n",
    "}"
   ]
  },
  {
   "cell_type": "code",
   "execution_count": 9,
   "id": "f3cbf83d",
   "metadata": {},
   "outputs": [
    {
     "name": "stdout",
     "output_type": "stream",
     "text": [
      "HEURISTIC VALUES :  {'A': 1, 'B': 6, 'C': 12, 'D': 10, 'E': 4, 'F': 4, 'G': 5, 'H': 7}\n",
      "SOLUTION GRAPH :  {}\n",
      "PROCESSING NODE :  A\n"
     ]
    },
    {
     "ename": "TypeError",
     "evalue": "Graph.getHeuristicNodeValues() missing 1 required positional argument: 'n'",
     "output_type": "error",
     "traceback": [
      "\u001b[1;31m---------------------------------------------------------------------------\u001b[0m",
      "\u001b[1;31mTypeError\u001b[0m                                 Traceback (most recent call last)",
      "Cell \u001b[1;32mIn[9], line 2\u001b[0m\n\u001b[0;32m      1\u001b[0m G2 \u001b[38;5;241m=\u001b[39m Graph(grapg2, h2, \u001b[38;5;124m'\u001b[39m\u001b[38;5;124mA\u001b[39m\u001b[38;5;124m'\u001b[39m)\n\u001b[1;32m----> 2\u001b[0m G2\u001b[38;5;241m.\u001b[39mapplyAOStar()\n\u001b[0;32m      3\u001b[0m G2\u001b[38;5;241m.\u001b[39mprintSolution()\n",
      "Cell \u001b[1;32mIn[7], line 11\u001b[0m, in \u001b[0;36mGraph.applyAOStar\u001b[1;34m(self)\u001b[0m\n\u001b[0;32m     10\u001b[0m \u001b[38;5;28;01mdef\u001b[39;00m \u001b[38;5;21mapplyAOStar\u001b[39m(\u001b[38;5;28mself\u001b[39m):\n\u001b[1;32m---> 11\u001b[0m     \u001b[38;5;28mself\u001b[39m\u001b[38;5;241m.\u001b[39maoStar(\u001b[38;5;28mself\u001b[39m\u001b[38;5;241m.\u001b[39mstart, \u001b[38;5;28;01mFalse\u001b[39;00m)\n",
      "Cell \u001b[1;32mIn[7], line 62\u001b[0m, in \u001b[0;36mGraph.aoStar\u001b[1;34m(self, v, backTracking)\u001b[0m\n\u001b[0;32m     60\u001b[0m \u001b[38;5;28mprint\u001b[39m(\u001b[38;5;124m\"\u001b[39m\u001b[38;5;124mPROCESSING NODE : \u001b[39m\u001b[38;5;124m\"\u001b[39m, v)\n\u001b[0;32m     61\u001b[0m \u001b[38;5;28;01mif\u001b[39;00m(\u001b[38;5;28mself\u001b[39m\u001b[38;5;241m.\u001b[39mgetStatus(v) \u001b[38;5;241m>\u001b[39m\u001b[38;5;241m=\u001b[39m \u001b[38;5;241m0\u001b[39m):\n\u001b[1;32m---> 62\u001b[0m     minimumCost, childNodeList \u001b[38;5;241m=\u001b[39m \u001b[38;5;28mself\u001b[39m\u001b[38;5;241m.\u001b[39mcomputeMinimumCostChildNodes(v)\n\u001b[0;32m     63\u001b[0m     \u001b[38;5;28mprint\u001b[39m(minimumCost, childNodeList)\n\u001b[0;32m     64\u001b[0m     \u001b[38;5;28mself\u001b[39m\u001b[38;5;241m.\u001b[39msetHeuristicValues(v, minimumCost)\n",
      "Cell \u001b[1;32mIn[7], line 43\u001b[0m, in \u001b[0;36mGraph.computeMinimumCostChildNodes\u001b[1;34m(self, v)\u001b[0m\n\u001b[0;32m     41\u001b[0m nodeList \u001b[38;5;241m=\u001b[39m []\n\u001b[0;32m     42\u001b[0m \u001b[38;5;28;01mfor\u001b[39;00m c, weight \u001b[38;5;129;01min\u001b[39;00m nodeInfoTupleList:\n\u001b[1;32m---> 43\u001b[0m     cost \u001b[38;5;241m=\u001b[39m cost \u001b[38;5;241m+\u001b[39m \u001b[38;5;28mself\u001b[39m\u001b[38;5;241m.\u001b[39mgetHeuristicNodeValues() \u001b[38;5;241m+\u001b[39m weight\n\u001b[0;32m     44\u001b[0m     nodeList\u001b[38;5;241m.\u001b[39mappend(c)\n\u001b[0;32m     46\u001b[0m \u001b[38;5;28;01mif\u001b[39;00m flag \u001b[38;5;241m==\u001b[39m \u001b[38;5;28;01mTrue\u001b[39;00m:\n",
      "\u001b[1;31mTypeError\u001b[0m: Graph.getHeuristicNodeValues() missing 1 required positional argument: 'n'"
     ]
    }
   ],
   "source": [
    "G2 = Graph(grapg2, h2, 'A')\n",
    "G2.applyAOStar()\n",
    "G2.printSolution()"
   ]
  },
  {
   "cell_type": "code",
   "execution_count": null,
   "id": "a88e8a90",
   "metadata": {},
   "outputs": [],
   "source": []
  }
 ],
 "metadata": {
  "kernelspec": {
   "display_name": "Python 3 (ipykernel)",
   "language": "python",
   "name": "python3"
  },
  "language_info": {
   "codemirror_mode": {
    "name": "ipython",
    "version": 3
   },
   "file_extension": ".py",
   "mimetype": "text/x-python",
   "name": "python",
   "nbconvert_exporter": "python",
   "pygments_lexer": "ipython3",
   "version": "3.11.4"
  }
 },
 "nbformat": 4,
 "nbformat_minor": 5
}
