{
 "cells": [
  {
   "cell_type": "code",
   "execution_count": 1,
   "id": "064cf392",
   "metadata": {},
   "outputs": [],
   "source": [
    "Graph_nodes = {\n",
    "        'S': [('A', 1), ('G', 10)],\n",
    "        'A': [('B', 2), ('C', 1)],\n",
    "        'B': [('D', 3), ('G', 4)],\n",
    "        'C': [('G', 2)],\n",
    "        'D': None,\n",
    "        'G': [('D', 5)]\n",
    "    }"
   ]
  },
  {
   "cell_type": "code",
   "execution_count": 2,
   "id": "12f3cb71",
   "metadata": {},
   "outputs": [],
   "source": [
    "def heuristic(n): \n",
    "    H_dist = {\n",
    "        'S': 5,\n",
    "        'A': 3,\n",
    "        'B': 4,\n",
    "        'C': 2,\n",
    "        'D': 6,\n",
    "        'G': 0\n",
    "    }\n",
    "    return H_dist[n]"
   ]
  },
  {
   "cell_type": "code",
   "execution_count": 3,
   "id": "7e0ccdd3",
   "metadata": {},
   "outputs": [],
   "source": [
    "def get_Neighbors(v):\n",
    "    if v in Graph_nodes:\n",
    "        return Graph_nodes[v]\n",
    "    else:\n",
    "        return None"
   ]
  },
  {
   "cell_type": "code",
   "execution_count": 4,
   "id": "61933423",
   "metadata": {},
   "outputs": [
    {
     "ename": "SyntaxError",
     "evalue": "invalid syntax (2586570516.py, line 15)",
     "output_type": "error",
     "traceback": [
      "\u001b[1;36m  Cell \u001b[1;32mIn[4], line 15\u001b[1;36m\u001b[0m\n\u001b[1;33m    if n == stop_node or Graph_nodes=[n] == None:\u001b[0m\n\u001b[1;37m                                    ^\u001b[0m\n\u001b[1;31mSyntaxError\u001b[0m\u001b[1;31m:\u001b[0m invalid syntax\n"
     ]
    }
   ],
   "source": [
    "def aStarAlgo(start_node, stop_node):\n",
    "    open_set = set(start_node)\n",
    "    closed_set = set()\n",
    "    g={}\n",
    "    parents = {}\n",
    "    \n",
    "    g[start_node] = 0\n",
    "    parents[start_node] = start_node\n",
    "    \n",
    "    while len(open_set)>0:\n",
    "        n = None\n",
    "        for v in open_set:\n",
    "            if n==None or g[v]+heuristic(v) < g[n]+heuristic(n):\n",
    "                n = v\n",
    "        if n == stop_node or Graph_nodes[n] == None:\n",
    "            pass\n",
    "        else:\n",
    "            for (m, weight) in get_Neighbors(n):\n",
    "                if m not in open_set and m not in closed_set:\n",
    "                    open_set.add(m)\n",
    "                    parents[m] = n\n",
    "                    g[m] = g[n]+weight\n",
    "                else:\n",
    "                    if g[m] > g[n]+weight:\n",
    "                        g[m] = g[n]+weight\n",
    "                        parents[m]=n\n",
    "\n",
    "                        if m in closed_set:\n",
    "                            closed_set.remove(m)\n",
    "                            open_set.add(m)\n",
    "        if n == None:\n",
    "            print('Path does not exist!')\n",
    "            return None\n",
    "        if n == stop_node:\n",
    "            path=[]\n",
    "            while parents[n] != n:\n",
    "                path.append(n)\n",
    "                n=parents[n]\n",
    "            path.append(start_node)\n",
    "            path.reverse()\n",
    "            print('Path found: {}'.format(path))\n",
    "            return path\n",
    "        open_set.remove(n)\n",
    "        closed_set.add(n)\n",
    "\n",
    "        print('Path does not exist!')\n",
    "        return None"
   ]
  },
  {
   "cell_type": "code",
   "execution_count": null,
   "id": "98ec7c0e",
   "metadata": {},
   "outputs": [],
   "source": [
    "aStarAlgo('S', 'G')"
   ]
  }
 ],
 "metadata": {
  "kernelspec": {
   "display_name": "Python 3 (ipykernel)",
   "language": "python",
   "name": "python3"
  },
  "language_info": {
   "codemirror_mode": {
    "name": "ipython",
    "version": 3
   },
   "file_extension": ".py",
   "mimetype": "text/x-python",
   "name": "python",
   "nbconvert_exporter": "python",
   "pygments_lexer": "ipython3",
   "version": "3.11.4"
  }
 },
 "nbformat": 4,
 "nbformat_minor": 5
}
