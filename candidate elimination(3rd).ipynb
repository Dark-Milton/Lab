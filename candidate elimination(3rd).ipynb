{
 "cells": [
  {
   "cell_type": "code",
   "execution_count": 2,
   "id": "9551d824",
   "metadata": {},
   "outputs": [],
   "source": [
    "import numpy as np\n",
    "import pandas as pd"
   ]
  },
  {
   "cell_type": "code",
   "execution_count": 3,
   "id": "ad8195a3",
   "metadata": {},
   "outputs": [
    {
     "name": "stdout",
     "output_type": "stream",
     "text": [
      "Instances are\n",
      " [['Sunny' 'Warm' 'Normal' 'Strong' 'Warm' 'Same']\n",
      " ['Sunny' 'Warm' 'High' 'Strong' 'Warm' 'Same']\n",
      " ['Rainy' 'cold' 'High' 'Strong' 'warm' 'Change']\n",
      " ['Sunny' 'Warm' 'High' 'Strong' 'Cool' 'Change']]\n",
      "target values are: ['Yes' 'Yes' 'No' 'Yes']\n"
     ]
    }
   ],
   "source": [
    "data=pd.read_csv('enjoysport1.csv')\n",
    "concepts=np.array(data.iloc[:,:-1])\n",
    "print(\"Instances are\\n\",concepts)\n",
    "target=np.array(data.iloc[:,-1])\n",
    "print(\"target values are:\",target)"
   ]
  },
  {
   "cell_type": "code",
   "execution_count": 4,
   "id": "0efddd52",
   "metadata": {},
   "outputs": [],
   "source": [
    "def initialize(concepts):\n",
    "    print(\"Initialization of specific_h and general_h\")\n",
    "    specific_h=['o']*len(concepts[0])\n",
    "    print(\"Specific Boundary\",specific_h)\n",
    "    general_h=[['?' for i in range(len(specific_h))] for i in range (len(specific_h))]\n",
    "    print(\"Generic Boundary\",general_h)\n",
    "    return specific_h,general_h"
   ]
  },
  {
   "cell_type": "code",
   "execution_count": 5,
   "id": "d4c0019f",
   "metadata": {},
   "outputs": [
    {
     "name": "stdout",
     "output_type": "stream",
     "text": [
      "Initialization of specific_h and general_h\n",
      "Specific Boundary ['o', 'o', 'o', 'o', 'o', 'o']\n",
      "Generic Boundary [['?', '?', '?', '?', '?', '?'], ['?', '?', '?', '?', '?', '?'], ['?', '?', '?', '?', '?', '?'], ['?', '?', '?', '?', '?', '?'], ['?', '?', '?', '?', '?', '?'], ['?', '?', '?', '?', '?', '?']]\n",
      "Instances 1 is ['Sunny' 'Warm' 'Normal' 'Strong' 'Warm' 'Same']\n",
      "Instance is positive\n",
      "specific boundary after 1 instance is ['Sunny' 'Warm' 'Normal' 'Strong' 'Warm' 'Same']\n",
      "general boundary after 1 instance is [['?', '?', '?', '?', '?', '?'], ['?', '?', '?', '?', '?', '?'], ['?', '?', '?', '?', '?', '?'], ['?', '?', '?', '?', '?', '?'], ['?', '?', '?', '?', '?', '?'], ['?', '?', '?', '?', '?', '?']]\n",
      "\n",
      "\n",
      "Instances 2 is ['Sunny' 'Warm' 'High' 'Strong' 'Warm' 'Same']\n",
      "Instance is positive\n",
      "specific boundary after 2 instance is ['Sunny' 'Warm' '?' 'Strong' 'Warm' 'Same']\n",
      "general boundary after 2 instance is [['?', '?', '?', '?', '?', '?'], ['?', '?', '?', '?', '?', '?'], ['?', '?', '?', '?', '?', '?'], ['?', '?', '?', '?', '?', '?'], ['?', '?', '?', '?', '?', '?'], ['?', '?', '?', '?', '?', '?']]\n",
      "\n",
      "\n",
      "Instances 3 is ['Rainy' 'cold' 'High' 'Strong' 'warm' 'Change']\n",
      "Instance is negative\n",
      "specific boundary after 3 instance is ['Sunny' 'Warm' '?' 'Strong' 'Warm' 'Same']\n",
      "general boundary after 3 instance is [['Sunny', '?', '?', '?', '?', '?'], ['?', 'Warm', '?', '?', '?', '?'], ['?', '?', '?', '?', '?', '?'], ['?', '?', '?', '?', '?', '?'], ['?', '?', '?', '?', 'Warm', '?'], ['?', '?', '?', '?', '?', 'Same']]\n",
      "\n",
      "\n",
      "Instances 4 is ['Sunny' 'Warm' 'High' 'Strong' 'Cool' 'Change']\n",
      "Instance is positive\n",
      "specific boundary after 4 instance is ['Sunny' 'Warm' '?' 'Strong' '?' '?']\n",
      "general boundary after 4 instance is [['Sunny', '?', '?', '?', '?', '?'], ['?', 'Warm', '?', '?', '?', '?'], ['?', '?', '?', '?', '?', '?'], ['?', '?', '?', '?', '?', '?'], ['?', '?', '?', '?', '?', '?'], ['?', '?', '?', '?', '?', '?']]\n",
      "\n",
      "\n",
      "final specific_h\n",
      "['Sunny' 'Warm' '?' 'Strong' '?' '?']\n",
      "final general_h\n",
      "[['Sunny', '?', '?', '?', '?', '?'], ['?', 'Warm', '?', '?', '?', '?']]\n"
     ]
    }
   ],
   "source": [
    "def learn(concepts,target):\n",
    "    specific_h,general_h=initialize(concepts)\n",
    "    for i,h in enumerate(concepts):\n",
    "        print(\"Instances\",i+1,\"is\",h)\n",
    "        if target[i]==\"Yes\":\n",
    "            print(\"Instance is positive\")\n",
    "            for x in range(len(specific_h)):\n",
    "                if h[x]!=specific_h[x] and i==0:\n",
    "                    specific_h=concepts[0].copy()\n",
    "                elif h[x]!=specific_h[x]:\n",
    "                    specific_h[x]=\"?\"\n",
    "                    general_h[x][x]=\"?\"\n",
    "        if target[i]==\"No\":\n",
    "            print(\"Instance is negative\")\n",
    "            for x in range(len(specific_h)):\n",
    "                if h[x]!=specific_h[x]:\n",
    "                    general_h[x][x]=specific_h[x]\n",
    "                else:\n",
    "                    general_h[x][x]=\"?\"\n",
    "        print(\"specific boundary after\",i+1,\"instance is\",specific_h)\n",
    "        print(\"general boundary after\",i+1,\"instance is\",general_h)\n",
    "        print(\"\\n\")\n",
    "    indices=[i for i,val in enumerate(general_h)if val==['?']*len(concepts[0])]\n",
    "    for i in indices:\n",
    "        general_h.remove(['?'] * len(concepts[0]))\n",
    "    return specific_h,general_h\n",
    "\n",
    "\n",
    "\n",
    "s_final,g_final=learn(concepts,target)\n",
    "print(\"final specific_h\",s_final,sep=\"\\n\")\n",
    "print(\"final general_h\",g_final,sep=\"\\n\")\n",
    " "
   ]
  },
  {
   "cell_type": "code",
   "execution_count": null,
   "id": "6c9d046e",
   "metadata": {},
   "outputs": [],
   "source": []
  },
  {
   "cell_type": "code",
   "execution_count": null,
   "id": "b22c9a25",
   "metadata": {},
   "outputs": [],
   "source": []
  },
  {
   "cell_type": "code",
   "execution_count": null,
   "id": "edc5be5b",
   "metadata": {},
   "outputs": [],
   "source": []
  }
 ],
 "metadata": {
  "kernelspec": {
   "display_name": "Python 3 (ipykernel)",
   "language": "python",
   "name": "python3"
  },
  "language_info": {
   "codemirror_mode": {
    "name": "ipython",
    "version": 3
   },
   "file_extension": ".py",
   "mimetype": "text/x-python",
   "name": "python",
   "nbconvert_exporter": "python",
   "pygments_lexer": "ipython3",
   "version": "3.11.4"
  }
 },
 "nbformat": 4,
 "nbformat_minor": 5
}
